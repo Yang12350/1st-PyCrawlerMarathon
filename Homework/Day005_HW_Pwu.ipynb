{
 "cells": [
  {
   "cell_type": "markdown",
   "metadata": {},
   "source": [
    "# API 資料串接 - 以 Dcard API 實作範例\n",
    "\n",
    "* 了解 Dcard API 使用方式與回傳內容\n",
    "* 撰寫程式存取 API 且解析 JSON 格式資料\n"
   ]
  },
  {
   "cell_type": "markdown",
   "metadata": {},
   "source": [
    "## 作業目標\n",
    "\n",
    "* 請利用 API: https://www.dcard.tw/_api/forums/pet/posts?popular=true 回答下列問題：\n",
    "\n",
    "1. 這個 API 一次會回傳幾筆資料？每一筆資料包含哪些欄位？\n",
    "2. 取出每一筆資料的「標題」、「貼文時間」、「留言人數」、「按讚人數」\n",
    "3. 計算熱門/非熱門文章的「平均留言人數」與「平均按讚人數」"
   ]
  },
  {
   "cell_type": "code",
   "execution_count": 14,
   "metadata": {},
   "outputs": [],
   "source": [
    "# 1. 這個 API 一次會回傳幾筆資料？每一筆資料包含哪些欄位？\n",
    "\n",
    "'''\n",
    "Your Code\n",
    "'''\n",
    "import requests\n",
    "r = requests.get('https://www.dcard.tw/_api/forums/pet/posts?popular=true')\n",
    "p = requests.get('https://www.dcard.tw/_api/forums/pet/posts?popular=false')\n",
    "response_non = p.text\n",
    "response = r.text\n",
    "\n",
    "# (response_non)"
   ]
  },
  {
   "cell_type": "code",
   "execution_count": 22,
   "metadata": {},
   "outputs": [
    {
     "name": "stdout",
     "output_type": "stream",
     "text": [
      "48.5 5.666666666666667\n"
     ]
    }
   ],
   "source": [
    "# 2. 取出每一筆資料的「標題」、「貼文時間」、「留言人數」、「按讚人數」\n",
    "\n",
    "'''\n",
    "Your Code\n",
    "'''\n",
    "import json\n",
    "data = json.loads(response)\n",
    "counter = 0\n",
    "total_like = 0\n",
    "total_comment = 0\n",
    "for d in data:\n",
    "    selected_data = [d['title'], d['createdAt'], d[\"commentCount\"], d[\"likeCount\"]]\n",
    "#     print(selected_data)\n",
    "    counter += 1\n",
    "    total_like += d[\"likeCount\"]\n",
    "    total_comment += d[\"commentCount\"]\n",
    "    \n",
    "avg_like_pop = total_like / counter\n",
    "avg_comment_pop = total_comment / counter\n",
    "print(avg_like_pop, avg_comment_pop)    "
   ]
  },
  {
   "cell_type": "code",
   "execution_count": 23,
   "metadata": {},
   "outputs": [
    {
     "name": "stdout",
     "output_type": "stream",
     "text": [
      "6.0 1.2333333333333334\n"
     ]
    }
   ],
   "source": [
    "# 3. 計算熱門/非熱門文章的「平均留言人數」與「平均按讚人數」\n",
    "\n",
    "'''\n",
    "Your Code\n",
    "'''\n",
    "data = json.loads(response_non)\n",
    "counter = 0\n",
    "total_like = 0\n",
    "total_comment = 0\n",
    "for d in data:\n",
    "    counter += 1\n",
    "    total_like += d[\"likeCount\"]\n",
    "    total_comment += d[\"commentCount\"]\n",
    "    \n",
    "avg_like = total_like / counter\n",
    "avg_comment = total_comment / counter\n",
    "print(avg_like, avg_comment)    "
   ]
  },
  {
   "cell_type": "code",
   "execution_count": null,
   "metadata": {},
   "outputs": [],
   "source": []
  },
  {
   "cell_type": "code",
   "execution_count": null,
   "metadata": {},
   "outputs": [],
   "source": []
  }
 ],
 "metadata": {
  "kernelspec": {
   "display_name": "Python 3",
   "language": "python",
   "name": "python3"
  },
  "language_info": {
   "codemirror_mode": {
    "name": "ipython",
    "version": 3
   },
   "file_extension": ".py",
   "mimetype": "text/x-python",
   "name": "python",
   "nbconvert_exporter": "python",
   "pygments_lexer": "ipython3",
   "version": "3.7.4"
  }
 },
 "nbformat": 4,
 "nbformat_minor": 4
}
