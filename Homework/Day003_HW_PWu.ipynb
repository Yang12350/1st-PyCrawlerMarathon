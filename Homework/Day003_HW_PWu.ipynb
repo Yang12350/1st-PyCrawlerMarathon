{
 "cells": [
  {
   "cell_type": "markdown",
   "metadata": {},
   "source": [
    "# Python 下載XML檔案與解析\n",
    "\n",
    "\n",
    "* 了解 xml 檔案格式與內容\n",
    "* 能夠利用套件存取 xml 格式的檔案\n"
   ]
  },
  {
   "cell_type": "markdown",
   "metadata": {},
   "source": [
    "## 作業目標\n",
    "\n",
    "* 比較一下範例檔案中的「File I/O」與「xmltodict」讀出來的內容有什麼差異\n",
    "\n",
    "* 根據範例檔案的結果：\n",
    "    1. 請問高雄市有多少地區有溫度資料？\n",
    "    2. 請取出每一個地區所記錄的第一個時間點跟溫度\n",
    "    3. 請取出第一個地區所記錄的每一個時間點跟溫度"
   ]
  },
  {
   "cell_type": "markdown",
   "metadata": {},
   "source": [
    "### 比較一下範例檔案中的「File I/O」與「xmltodict」讀出來的內容有什麼差異\n"
   ]
  },
  {
   "cell_type": "code",
   "execution_count": 1,
   "metadata": {},
   "outputs": [
    {
     "name": "stdout",
     "output_type": "stream",
     "text": [
      "<class 'str'>\n",
      "<class 'dict'>\n"
     ]
    }
   ],
   "source": [
    "'''\n",
    "Your Code\n",
    "'''\n",
    "# File I/O 讀檔案\n",
    "fh = open(\"./data/64_72hr_CH.xml\", \"r\", encoding=\"utf-8\")\n",
    "xml = fh.read()\n",
    "fh.close()\n",
    "d_io = xml\n",
    "import xmltodict\n",
    "d = dict(xmltodict.parse(xml))\n",
    "\n",
    "print(type(d_io))\n",
    "print(type(d))"
   ]
  },
  {
   "cell_type": "markdown",
   "metadata": {},
   "source": [
    "### 根據範例檔案的結果：\n",
    "\n",
    "1. 請問高雄市有多少地區有溫度資料？\n",
    "2. 請取出每一個地區所記錄的第一個時間點跟溫度\n",
    "3. 請取出第一個地區所記錄的每一個時間點跟溫度"
   ]
  },
  {
   "cell_type": "code",
   "execution_count": 2,
   "metadata": {},
   "outputs": [
    {
     "name": "stdout",
     "output_type": "stream",
     "text": [
      "38\n",
      "鹽埕區\n",
      "OrderedDict([('value', '20'), ('measures', '攝氏度')])\n",
      "value 19\n",
      "measures 攝氏度\n"
     ]
    }
   ],
   "source": [
    "# 1. 請問高雄市有多少地區有溫度資料？\n",
    "\n",
    "'''\n",
    "Your Code\n",
    "'''\n",
    "from collections import OrderedDict \n",
    "count = 0\n",
    "districts = []\n",
    "df = d['cwbopendata']['dataset']['locations']['location']\n",
    "\n",
    "for loc in df:\n",
    "    districts.append(loc['locationName'])\n",
    "    count += 1\n",
    "\n",
    "print(count)\n",
    "print(districts[0])\n",
    "# print(districts)\n",
    "\n",
    "df2 = df[0]['weatherElement']\n",
    "for loc in range(1):\n",
    "#     if loc\n",
    "    print(df2[loc]['time'][0]['elementValue'])\n",
    "    od = df2[loc]['time'][1]['elementValue']\n",
    "    for key, value in od.items(): \n",
    "        print(key, value) \n",
    "\n",
    "\n",
    "# ordered dictionaries\n",
    "# for key, value in od.items(): \n",
    "#     print(key, value) "
   ]
  },
  {
   "cell_type": "code",
   "execution_count": 5,
   "metadata": {},
   "outputs": [
    {
     "name": "stdout",
     "output_type": "stream",
     "text": [
      "['2020-01-07T00:00:00+08:00', '2020-01-07T00:00:00+08:00', '2020-01-07T00:00:00+08:00', '2020-01-07T00:00:00+08:00', '2020-01-07T00:00:00+08:00', '2020-01-07T00:00:00+08:00', '2020-01-07T00:00:00+08:00', '2020-01-07T00:00:00+08:00', '2020-01-07T00:00:00+08:00', '2020-01-07T00:00:00+08:00', '2020-01-07T00:00:00+08:00', '2020-01-07T00:00:00+08:00', '2020-01-07T00:00:00+08:00', '2020-01-07T00:00:00+08:00', '2020-01-07T00:00:00+08:00', '2020-01-07T00:00:00+08:00', '2020-01-07T00:00:00+08:00', '2020-01-07T00:00:00+08:00', '2020-01-07T00:00:00+08:00', '2020-01-07T00:00:00+08:00', '2020-01-07T00:00:00+08:00', '2020-01-07T00:00:00+08:00', '2020-01-07T00:00:00+08:00', '2020-01-07T00:00:00+08:00', '2020-01-07T00:00:00+08:00', '2020-01-07T00:00:00+08:00', '2020-01-07T00:00:00+08:00', '2020-01-07T00:00:00+08:00', '2020-01-07T00:00:00+08:00', '2020-01-07T00:00:00+08:00', '2020-01-07T00:00:00+08:00', '2020-01-07T00:00:00+08:00', '2020-01-07T00:00:00+08:00', '2020-01-07T00:00:00+08:00', '2020-01-07T00:00:00+08:00', '2020-01-07T00:00:00+08:00', '2020-01-07T00:00:00+08:00', '2020-01-07T00:00:00+08:00']\n",
      "['20', '20', '19', '19', '20', '20', '20', '20', '21', '20', '21', '20', '21', '20', '19', '19', '19', '19', '19', '19', '19', '18', '17', '19', '18', '18', '19', '19', '19', '18', '19', '18', '17', '18', '18', '17', '16', '15']\n"
     ]
    }
   ],
   "source": [
    "# 2. 請取出每一個地區所記錄的第一個時間點跟溫度\n",
    "\n",
    "'''\n",
    "Your Code\n",
    "'''\n",
    "times = []\n",
    "temps = []\n",
    "\n",
    "\n",
    "for loc in df:\n",
    "    df2 = loc['weatherElement']\n",
    "    for time in range(1):\n",
    "        times.append(df2[time]['time'][0]['dataTime'])\n",
    "        temps.append(df2[time]['time'][0]['elementValue']['value'])\n",
    "#     time.append(times[0])\n",
    "print(times)\n",
    "print(temps)\n"
   ]
  },
  {
   "cell_type": "code",
   "execution_count": 4,
   "metadata": {},
   "outputs": [
    {
     "name": "stdout",
     "output_type": "stream",
     "text": [
      "['2020-01-07T00:00:00+08:00', '2020-01-07T03:00:00+08:00', '2020-01-07T06:00:00+08:00', '2020-01-07T09:00:00+08:00', '2020-01-07T12:00:00+08:00', '2020-01-07T15:00:00+08:00', '2020-01-07T18:00:00+08:00', '2020-01-07T21:00:00+08:00', '2020-01-08T00:00:00+08:00', '2020-01-08T03:00:00+08:00', '2020-01-08T06:00:00+08:00', '2020-01-08T09:00:00+08:00', '2020-01-08T12:00:00+08:00', '2020-01-08T15:00:00+08:00', '2020-01-08T18:00:00+08:00', '2020-01-08T21:00:00+08:00', '2020-01-09T00:00:00+08:00', '2020-01-09T03:00:00+08:00', '2020-01-09T06:00:00+08:00', '2020-01-09T09:00:00+08:00', '2020-01-09T12:00:00+08:00', '2020-01-09T15:00:00+08:00', '2020-01-09T18:00:00+08:00', '2020-01-09T21:00:00+08:00']\n",
      "['20', '19', '19', '20', '26', '27', '25', '23', '21', '20', '20', '21', '25', '26', '24', '21', '20', '19', '18', '19', '23', '24', '22', '21']\n"
     ]
    }
   ],
   "source": [
    "# 3. 請取出第一個地區所記錄的每一個時間點跟溫度\n",
    "\n",
    "'''\n",
    "Your Cod\n",
    "'''\n",
    "times_first = []\n",
    "temps_first = []\n",
    "count = 0\n",
    "df2 = df[0]['weatherElement']\n",
    "\n",
    "for times in df2:\n",
    "    if times['elementName'] == 'T':\n",
    "#         print(times['time'])\n",
    "        for item in times['time']:\n",
    "#             print(item['dataTime'])\n",
    "            times_first.append(item['dataTime'])\n",
    "            od = item['elementValue']\n",
    "            for key, value in od.items(): \n",
    "                if key == 'value':\n",
    "                    temps_first.append(value)\n",
    "        \n",
    "\n",
    "\n",
    "print(times_first)\n",
    "print(temps_first)"
   ]
  },
  {
   "cell_type": "code",
   "execution_count": null,
   "metadata": {},
   "outputs": [],
   "source": []
  }
 ],
 "metadata": {
  "kernelspec": {
   "display_name": "Python 3",
   "language": "python",
   "name": "python3"
  },
  "language_info": {
   "codemirror_mode": {
    "name": "ipython",
    "version": 3
   },
   "file_extension": ".py",
   "mimetype": "text/x-python",
   "name": "python",
   "nbconvert_exporter": "python",
   "pygments_lexer": "ipython3",
   "version": "3.7.4"
  }
 },
 "nbformat": 4,
 "nbformat_minor": 4
}
