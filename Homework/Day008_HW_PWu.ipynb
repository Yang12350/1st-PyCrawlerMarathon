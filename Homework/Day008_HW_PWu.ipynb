{
 "cells": [
  {
   "cell_type": "markdown",
   "metadata": {},
   "source": [
    "# 靜態網頁的資料爬蟲策略\n",
    "\n",
    "\n",
    "* 了解靜態網頁的資料爬蟲策略\n",
    "* 認識適用於靜態網頁爬蟲的相關套件工具：Request\n",
    "* 認識適用於靜態網頁爬蟲的相關套件工具：BeatifulSoup"
   ]
  },
  {
   "cell_type": "markdown",
   "metadata": {},
   "source": [
    "## 作業目標\n",
    "\n",
    "利用 Request + BeatifulSoup 爬取下列兩個網站內容並解析：\n",
    "\n",
    "1. Dcared 網址： https://www.dcard.tw/f\n",
    "2. 知乎： https://www.zhihu.com/explore\n",
    "\n",
    "並且回答下面問題：\n",
    "\n",
    "1. Request 取回之後該怎麼取出資料，資料型態是什麼？\n",
    "2. 為什麼要使用 BeatifulSoup 處理？處理後的型態是什麼？\n",
    "3. 觀察一下知乎回來的資料好像有點怪怪的，該怎麼解決？"
   ]
  },
  {
   "cell_type": "markdown",
   "metadata": {},
   "source": [
    "### 1. Dcard 網址： https://www.dcard.tw/f"
   ]
  },
  {
   "cell_type": "code",
   "execution_count": 1,
   "metadata": {},
   "outputs": [],
   "source": [
    "import requests\n",
    "from bs4 import BeautifulSoup\n"
   ]
  },
  {
   "cell_type": "code",
   "execution_count": 6,
   "metadata": {},
   "outputs": [
    {
     "name": "stdout",
     "output_type": "stream",
     "text": [
      "<!DOCTYPE html><html lang=\"zh-Hant-TW\"><head prefix=\"og: http://ogp.me/ns#\" itemscope=\"\" itemType=\"https://schema.org/WebSite\"><title data-react-helmet=\"true\">Dcard</title><meta data-react-helmet=\"true\" property=\"og:image\" content=\"https://www.dcard.tw/build/landing-c9e7b8fb.png\"/><meta data-react-h\n",
      "<class 'str'>\n"
     ]
    }
   ],
   "source": [
    "url = 'https://www.dcard.tw/f'\n",
    "\n",
    "'''\n",
    "Your Code Here\n",
    "'''\n",
    "r = requests.get(url)\n",
    "r.encoding = 'utf-8'\n",
    "response = r.text\n",
    "print(r.text[0:300])  # r.text 只是string的形式，不容易直接提出資料\n",
    "print(type(response))\n",
    "#"
   ]
  },
  {
   "cell_type": "code",
   "execution_count": 10,
   "metadata": {},
   "outputs": [
    {
     "name": "stdout",
     "output_type": "stream",
     "text": [
      "Request 取回之後該怎麼取出資料，資料型態是什麼？ =>\n",
      "Ans: 用 beautiful soup 把資料換成 beautiful soup class。\n",
      "<class 'bs4.BeautifulSoup'>\n"
     ]
    }
   ],
   "source": [
    "print('Request 取回之後該怎麼取出資料，資料型態是什麼？ =>')\n",
    "\n",
    "'''\n",
    "Your Code Here\n",
    "'''\n",
    "print(\"Ans: 用 beautiful soup 把資料換成 beautiful soup class。\")\n",
    "\n",
    "soup = BeautifulSoup(response, \"html5lib\")\n",
    "# print(soup)\n",
    "print(type(soup))"
   ]
  },
  {
   "cell_type": "code",
   "execution_count": 11,
   "metadata": {},
   "outputs": [
    {
     "name": "stdout",
     "output_type": "stream",
     "text": [
      "為什麼要使用 BeatifulSoup 處理？處理後的型態是什麼？ => \n",
      "BeautifulSoup 處理 Html5 型態之資料\n"
     ]
    }
   ],
   "source": [
    "print('為什麼要使用 BeatifulSoup 處理？處理後的型態是什麼？ => ')\n",
    "\n",
    "'''\n",
    "Your Code Here\n",
    "'''\n",
    "print(\"BeautifulSoup 處理 Html5 型態之資料\")"
   ]
  },
  {
   "cell_type": "markdown",
   "metadata": {},
   "source": [
    "### 2. 知乎： https://www.zhihu.com/explore"
   ]
  },
  {
   "cell_type": "code",
   "execution_count": 12,
   "metadata": {},
   "outputs": [
    {
     "name": "stdout",
     "output_type": "stream",
     "text": [
      "<html>\n",
      "<head><title>400 Bad Request</title></head>\n",
      "<body bgcolor=\"white\">\n",
      "<center><h1>400 Bad Request</h1></center>\n",
      "<hr><center>openresty</center>\n",
      "</body>\n",
      "</html>\n",
      "\n"
     ]
    }
   ],
   "source": [
    "url = 'https://www.zhihu.com/explore'\n",
    "r = requests.get(url)\n",
    "r.encoding = 'utf-8'\n",
    "\n",
    "print(r.text[0:600])"
   ]
  },
  {
   "cell_type": "markdown",
   "metadata": {},
   "source": [
    "### 3. 觀察一下知乎回來的資料好像有點怪怪的，該怎麼解決？"
   ]
  },
  {
   "cell_type": "code",
   "execution_count": 13,
   "metadata": {},
   "outputs": [
    {
     "name": "stdout",
     "output_type": "stream",
     "text": [
      "<!doctype html>\n",
      "<html lang=\"zh\" data-hairline=\"true\" data-theme=\"light\"><head><meta charSet=\"utf-8\"/><title data-react-helmet=\"true\">发现 - 知乎</title><meta name=\"viewport\" content=\"width=device-width,initial-scale=1,maximum-scale=1\"/><meta name=\"renderer\" content=\"webkit\"/><meta name=\"force-rendering\" content=\"webkit\"/><meta http-equiv=\"X-UA-Compatible\" content=\"IE=edge,chrome=1\"/><meta name=\"google-site-verification\" content=\"FTeR0c8arOPKh8c5DYh_9uu98_zJbaWw53J-Sch9MTg\"/><meta name=\"description\" property=\"og:description\" content=\"有问题，上知乎。知乎，可信赖的问答社区，以让每个人高效获得可信赖的解答为使命。知乎凭借认真、专业和友善的社区氛围，结构化、易获得的\n"
     ]
    }
   ],
   "source": [
    "import requests\n",
    "url = 'https://www.zhihu.com/explore'\n",
    "\n",
    "'''\n",
    "Your Code Here\n",
    "'''\n",
    "headers = {'user-agent': 'my-app/0.0.1'}  # add headers\n",
    "\n",
    "r = requests.get(url, headers = headers)\n",
    "\n",
    "r.encoding = 'utf-8'\n",
    "print(r.text[0:600])"
   ]
  },
  {
   "cell_type": "code",
   "execution_count": null,
   "metadata": {},
   "outputs": [],
   "source": []
  },
  {
   "cell_type": "code",
   "execution_count": null,
   "metadata": {},
   "outputs": [],
   "source": []
  }
 ],
 "metadata": {
  "kernelspec": {
   "display_name": "Python 3",
   "language": "python",
   "name": "python3"
  },
  "language_info": {
   "codemirror_mode": {
    "name": "ipython",
    "version": 3
   },
   "file_extension": ".py",
   "mimetype": "text/x-python",
   "name": "python",
   "nbconvert_exporter": "python",
   "pygments_lexer": "ipython3",
   "version": "3.7.4"
  }
 },
 "nbformat": 4,
 "nbformat_minor": 4
}
